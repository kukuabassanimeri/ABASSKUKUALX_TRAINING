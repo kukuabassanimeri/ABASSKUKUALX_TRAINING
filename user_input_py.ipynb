{
  "nbformat": 4,
  "nbformat_minor": 0,
  "metadata": {
    "colab": {
      "provenance": [],
      "authorship_tag": "ABX9TyPIVdAGkZxahMg1yJLgrgDh",
      "include_colab_link": true
    },
    "kernelspec": {
      "name": "python3",
      "display_name": "Python 3"
    },
    "language_info": {
      "name": "python"
    }
  },
  "cells": [
    {
      "cell_type": "markdown",
      "metadata": {
        "id": "view-in-github",
        "colab_type": "text"
      },
      "source": [
        "<a href=\"https://colab.research.google.com/github/kukuabassanimeri/ABASSKUKUALX_TRAINING/blob/master/user_input_py.ipynb\" target=\"_parent\"><img src=\"https://colab.research.google.com/assets/colab-badge.svg\" alt=\"Open In Colab\"/></a>"
      ]
    },
    {
      "cell_type": "code",
      "execution_count": 5,
      "metadata": {
        "colab": {
          "base_uri": "https://localhost:8080/"
        },
        "id": "y1rTQBq9vNgG",
        "outputId": "155d3454-8bc3-4c59-8b59-859b110f9f0c"
      },
      "outputs": [
        {
          "output_type": "stream",
          "name": "stdout",
          "text": [
            "Enter your name: Abass\n",
            "Enter your age value: 39\n",
            "Enter your location area: Alsops\n",
            "Hello Abass, you are 39 years old and live in Alsops.\n"
          ]
        }
      ],
      "source": [
        "name = input(\"Enter your name: \")\n",
        "age = int(input(\"Enter your age value: \"))\n",
        "location = input(\"Enter your location area: \")\n",
        "print(f\"Hello {name}, you are {age} years old and live in {location}.\")"
      ]
    }
  ]
}